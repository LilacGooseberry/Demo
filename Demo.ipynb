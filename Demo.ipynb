{
    "cells": [
        {
            "cell_type": "code",
            "execution_count": 1,
            "metadata": {},
            "outputs": [],
            "source": "import numpy as np"
        },
        {
            "cell_type": "code",
            "execution_count": 3,
            "metadata": {},
            "outputs": [],
            "source": "a = np.ndarray([1,2,3,4])"
        },
        {
            "cell_type": "code",
            "execution_count": 4,
            "metadata": {},
            "outputs": [
                {
                    "name": "stdout",
                    "output_type": "stream",
                    "text": "[[[[6.93000819e-310 6.93000392e-310 2.17507928e+005 6.93000819e-310]\n   [6.93000392e-310 1.41796570e-300 6.93000819e-310 6.93000396e-310]\n   [5.60709084e-053 6.93000819e-310 6.93000392e-310 1.34128062e+269]]\n\n  [[6.93000819e-310 6.93000392e-310 2.89853919e-270 6.93000392e-310]\n   [6.93000392e-310 2.26306089e-119 6.93000819e-310 6.93000392e-310]\n   [9.38104815e+018 6.93000975e-310 6.93000393e-310 1.23255744e+106]]]]\n"
                }
            ],
            "source": "print(a)"
        },
        {
            "cell_type": "code",
            "execution_count": null,
            "metadata": {},
            "outputs": [],
            "source": ""
        }
    ],
    "metadata": {
        "kernelspec": {
            "display_name": "Python 3.6",
            "language": "python",
            "name": "python3"
        },
        "language_info": {
            "codemirror_mode": {
                "name": "ipython",
                "version": 3
            },
            "file_extension": ".py",
            "mimetype": "text/x-python",
            "name": "python",
            "nbconvert_exporter": "python",
            "pygments_lexer": "ipython3",
            "version": "3.6.9"
        }
    },
    "nbformat": 4,
    "nbformat_minor": 1
}